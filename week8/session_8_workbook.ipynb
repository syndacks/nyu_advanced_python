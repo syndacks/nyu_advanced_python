{
 "cells": [
  {
   "cell_type": "markdown",
   "metadata": {},
   "source": [
    "# Advanced Python\n",
    "## Pandas Exercises Workbook\n",
    "\n",
    "These exercises focus on the features we discussed in our last class.  <B>You will work with this <B>.ipynb</B> (iPython/Jupyter Notebook) file</B>.   Type your answers into each cell in this workbook; execute the code in a cell with <B>Shift [Enter]</B>.  I have inserted my expected output; you can compare your results to mine.  \n",
    "\n",
    "Preparation:\n",
    "1. Please locate the file we used in class (<B>bond_feed_tiny.xls</B>) and copy/download into the same directory as the one you were in when you opened this .ipynb file (or place in a different location and include the path to the file when you open it).  The excel file can be found under the <B>source_data</B> link, inside the <B>jupyter_notebooks</B> folder.  \n",
    "2. The first step after importing pandas is to read the excel file; if it shows as \"not found\", make sure that you  saved the excel file in the same directory where you launched this .ipynb file (or are referencing the correct path).  If you're not sure, you can always close this file, move it into the same directory as the excel file, and double-click it from there.  \n",
    "3. In each cell place the code necessary to fulfill the assignment, then print the resulting DataFrame or Series.  You can compare your answers to my answers shown.  (Note that printing the variable shows the data as you see it there; simply referencing the variable on the last line will show it in a different visual format (gridlines, etc.)  \n",
    "4. Note the keyboard command <B>Shift [Enter]</B> executes a cell and drops cursor to the next cell -- running from the menu is not necessary.  \n",
    "5. <I><B>Please also note</B> that when cells are executed individually they include variables from prior cell executions, <B>but changes to a prior cell will not reflect below it until that cell is executed.</B></I>\n",
    "6. <B>Refer to the slides for an overview of the features used here, and you may also refer to the <U>Homework Discussion document</U> (on the course website) for hints on what features to use for each question.  </B>"
   ]
  },
  {
   "cell_type": "code",
   "execution_count": 186,
   "metadata": {
    "collapsed": true
   },
   "outputs": [],
   "source": [
    "# 8.1:  execute this cell once so subsequent cells can make use of the import\n",
    "import pandas as pd"
   ]
  },
  {
   "cell_type": "code",
   "execution_count": 187,
   "metadata": {},
   "outputs": [
    {
     "data": {
      "text/html": [
       "<div>\n",
       "<style>\n",
       "    .dataframe thead tr:only-child th {\n",
       "        text-align: right;\n",
       "    }\n",
       "\n",
       "    .dataframe thead th {\n",
       "        text-align: left;\n",
       "    }\n",
       "\n",
       "    .dataframe tbody tr th {\n",
       "        vertical-align: top;\n",
       "    }\n",
       "</style>\n",
       "<table border=\"1\" class=\"dataframe\">\n",
       "  <thead>\n",
       "    <tr style=\"text-align: right;\">\n",
       "      <th></th>\n",
       "      <th>CRNCY</th>\n",
       "      <th>Country Code</th>\n",
       "      <th>Eurozone?</th>\n",
       "      <th>AMT_ISSUED</th>\n",
       "      <th>AMT_OUTSTANDING</th>\n",
       "    </tr>\n",
       "  </thead>\n",
       "  <tbody>\n",
       "    <tr>\n",
       "      <th>0</th>\n",
       "      <td>USD</td>\n",
       "      <td>UA</td>\n",
       "      <td>Non</td>\n",
       "      <td>1500000000</td>\n",
       "      <td>1500000000</td>\n",
       "    </tr>\n",
       "    <tr>\n",
       "      <th>1</th>\n",
       "      <td>EUR</td>\n",
       "      <td>FR</td>\n",
       "      <td>Eurozone</td>\n",
       "      <td>10160000000</td>\n",
       "      <td>10160000000</td>\n",
       "    </tr>\n",
       "    <tr>\n",
       "      <th>2</th>\n",
       "      <td>DKK</td>\n",
       "      <td>DE</td>\n",
       "      <td>Non</td>\n",
       "      <td>17040000000</td>\n",
       "      <td>16040000000</td>\n",
       "    </tr>\n",
       "    <tr>\n",
       "      <th>3</th>\n",
       "      <td>EUR</td>\n",
       "      <td>FR</td>\n",
       "      <td>Eurozone</td>\n",
       "      <td>20195000000</td>\n",
       "      <td>19095000000</td>\n",
       "    </tr>\n",
       "    <tr>\n",
       "      <th>4</th>\n",
       "      <td>EUR</td>\n",
       "      <td>GO</td>\n",
       "      <td>Non</td>\n",
       "      <td>7000000</td>\n",
       "      <td>7000000</td>\n",
       "    </tr>\n",
       "  </tbody>\n",
       "</table>\n",
       "</div>"
      ],
      "text/plain": [
       "  CRNCY Country Code Eurozone?   AMT_ISSUED  AMT_OUTSTANDING\n",
       "0   USD           UA       Non   1500000000       1500000000\n",
       "1   EUR           FR  Eurozone  10160000000      10160000000\n",
       "2   DKK           DE       Non  17040000000      16040000000\n",
       "3   EUR           FR  Eurozone  20195000000      19095000000\n",
       "4   EUR           GO       Non      7000000          7000000"
      ]
     },
     "execution_count": 187,
     "metadata": {},
     "output_type": "execute_result"
    }
   ],
   "source": [
    "# 8.2:  read sheet \"Aggregate\" in bond_feed_tiny.xls\n",
    "#       assign to a variable 'df1' (we'll be referring back to it later on)\n",
    "#       if the file cannot be read, see note in instructions above\n",
    "df1 = pd.read_excel('bond_feed_tiny.xls')\n",
    "df1"
   ]
  },
  {
   "cell_type": "markdown",
   "metadata": {},
   "source": [
    "<U>expected output</U>:\n",
    "<PRE>CRNCY Country Code Eurozone?   AMT_ISSUED  AMT_OUTSTANDING\n",
    "0   USD           UA       Non   1500000000       1500000000\n",
    "1   EUR           FR  Eurozone  10160000000      10160000000\n",
    "2   DKK           DE       Non  17040000000      16040000000\n",
    "3   EUR           FR  Eurozone  20195000000      19095000000\n",
    "4   EUR           GO       Non      7000000          7000000</PRE>"
   ]
  },
  {
   "cell_type": "code",
   "execution_count": 188,
   "metadata": {},
   "outputs": [
    {
     "data": {
      "text/html": [
       "<div>\n",
       "<style>\n",
       "    .dataframe thead tr:only-child th {\n",
       "        text-align: right;\n",
       "    }\n",
       "\n",
       "    .dataframe thead th {\n",
       "        text-align: left;\n",
       "    }\n",
       "\n",
       "    .dataframe tbody tr th {\n",
       "        vertical-align: top;\n",
       "    }\n",
       "</style>\n",
       "<table border=\"1\" class=\"dataframe\">\n",
       "  <thead>\n",
       "    <tr style=\"text-align: right;\">\n",
       "      <th></th>\n",
       "      <th>CRNCY</th>\n",
       "      <th>CTRY_CODE</th>\n",
       "      <th>EUROZONE</th>\n",
       "      <th>AMT_ISSUED</th>\n",
       "      <th>AMT_OUTSTANDING</th>\n",
       "    </tr>\n",
       "  </thead>\n",
       "  <tbody>\n",
       "    <tr>\n",
       "      <th>0</th>\n",
       "      <td>USD</td>\n",
       "      <td>UA</td>\n",
       "      <td>Non</td>\n",
       "      <td>1500000000</td>\n",
       "      <td>1500000000</td>\n",
       "    </tr>\n",
       "    <tr>\n",
       "      <th>1</th>\n",
       "      <td>EUR</td>\n",
       "      <td>FR</td>\n",
       "      <td>Eurozone</td>\n",
       "      <td>10160000000</td>\n",
       "      <td>10160000000</td>\n",
       "    </tr>\n",
       "    <tr>\n",
       "      <th>2</th>\n",
       "      <td>DKK</td>\n",
       "      <td>DE</td>\n",
       "      <td>Non</td>\n",
       "      <td>17040000000</td>\n",
       "      <td>16040000000</td>\n",
       "    </tr>\n",
       "    <tr>\n",
       "      <th>3</th>\n",
       "      <td>EUR</td>\n",
       "      <td>FR</td>\n",
       "      <td>Eurozone</td>\n",
       "      <td>20195000000</td>\n",
       "      <td>19095000000</td>\n",
       "    </tr>\n",
       "    <tr>\n",
       "      <th>4</th>\n",
       "      <td>EUR</td>\n",
       "      <td>GO</td>\n",
       "      <td>Non</td>\n",
       "      <td>7000000</td>\n",
       "      <td>7000000</td>\n",
       "    </tr>\n",
       "  </tbody>\n",
       "</table>\n",
       "</div>"
      ],
      "text/plain": [
       "  CRNCY CTRY_CODE  EUROZONE   AMT_ISSUED  AMT_OUTSTANDING\n",
       "0   USD        UA       Non   1500000000       1500000000\n",
       "1   EUR        FR  Eurozone  10160000000      10160000000\n",
       "2   DKK        DE       Non  17040000000      16040000000\n",
       "3   EUR        FR  Eurozone  20195000000      19095000000\n",
       "4   EUR        GO       Non      7000000          7000000"
      ]
     },
     "execution_count": 188,
     "metadata": {},
     "output_type": "execute_result"
    }
   ],
   "source": [
    "# 8.3:  rename \"Country Code\" to CTRY_CODE and \"Eurozone?\" to EUROZONE\n",
    "df1=df1.rename(columns={'Country Code':'CTRY_CODE', 'Eurozone?':'EUROZONE'})\n",
    "df1"
   ]
  },
  {
   "cell_type": "markdown",
   "metadata": {},
   "source": [
    "<U>expected output</U>:\n",
    "<PRE>  CRNCY CTRY_CODE  EUROZONE   AMT_ISSUED  AMT_OUTSTANDING\n",
    "0   USD        UA       Non   1500000000       1500000000\n",
    "1   EUR        FR  Eurozone  10160000000      10160000000\n",
    "2   DKK        DE       Non  17040000000      16040000000\n",
    "3   EUR        FR  Eurozone  20195000000      19095000000\n",
    "4   EUR        GO       Non      7000000          7000000</PRE>"
   ]
  },
  {
   "cell_type": "code",
   "execution_count": 189,
   "metadata": {},
   "outputs": [
    {
     "data": {
      "text/html": [
       "<div>\n",
       "<style>\n",
       "    .dataframe thead tr:only-child th {\n",
       "        text-align: right;\n",
       "    }\n",
       "\n",
       "    .dataframe thead th {\n",
       "        text-align: left;\n",
       "    }\n",
       "\n",
       "    .dataframe tbody tr th {\n",
       "        vertical-align: top;\n",
       "    }\n",
       "</style>\n",
       "<table border=\"1\" class=\"dataframe\">\n",
       "  <thead>\n",
       "    <tr style=\"text-align: right;\">\n",
       "      <th></th>\n",
       "      <th>CTRY_CODE</th>\n",
       "      <th>AMT_ISSUED</th>\n",
       "      <th>AMT_OUTSTANDING</th>\n",
       "    </tr>\n",
       "  </thead>\n",
       "  <tbody>\n",
       "    <tr>\n",
       "      <th>0</th>\n",
       "      <td>UA</td>\n",
       "      <td>1500000000</td>\n",
       "      <td>1500000000</td>\n",
       "    </tr>\n",
       "    <tr>\n",
       "      <th>1</th>\n",
       "      <td>FR</td>\n",
       "      <td>10160000000</td>\n",
       "      <td>10160000000</td>\n",
       "    </tr>\n",
       "    <tr>\n",
       "      <th>2</th>\n",
       "      <td>DE</td>\n",
       "      <td>17040000000</td>\n",
       "      <td>16040000000</td>\n",
       "    </tr>\n",
       "    <tr>\n",
       "      <th>3</th>\n",
       "      <td>FR</td>\n",
       "      <td>20195000000</td>\n",
       "      <td>19095000000</td>\n",
       "    </tr>\n",
       "    <tr>\n",
       "      <th>4</th>\n",
       "      <td>GO</td>\n",
       "      <td>7000000</td>\n",
       "      <td>7000000</td>\n",
       "    </tr>\n",
       "  </tbody>\n",
       "</table>\n",
       "</div>"
      ],
      "text/plain": [
       "  CTRY_CODE   AMT_ISSUED  AMT_OUTSTANDING\n",
       "0        UA   1500000000       1500000000\n",
       "1        FR  10160000000      10160000000\n",
       "2        DE  17040000000      16040000000\n",
       "3        FR  20195000000      19095000000\n",
       "4        GO      7000000          7000000"
      ]
     },
     "execution_count": 189,
     "metadata": {},
     "output_type": "execute_result"
    }
   ],
   "source": [
    "# 8.4:  create a slice of just CTRY_CODE, AMT_ISSUED and AMT_OUTSTANDING\n",
    "#       Note:  please assign this to a new dataframe df2\n",
    "df2 = df1.loc[:,['CTRY_CODE', 'AMT_ISSUED', 'AMT_OUTSTANDING']]\n",
    "df2"
   ]
  },
  {
   "cell_type": "markdown",
   "metadata": {},
   "source": [
    "<U>expected output</U>:\n",
    "<PRE>  CTRY_CODE   AMT_ISSUED  AMT_OUTSTANDING\n",
    "0        UA   1500000000       1500000000\n",
    "1        FR  10160000000      10160000000\n",
    "2        DE  17040000000      16040000000\n",
    "3        FR  20195000000      19095000000\n",
    "4        GO      7000000          7000000</PRE>"
   ]
  },
  {
   "cell_type": "code",
   "execution_count": 190,
   "metadata": {},
   "outputs": [
    {
     "data": {
      "text/html": [
       "<div>\n",
       "<style>\n",
       "    .dataframe thead tr:only-child th {\n",
       "        text-align: right;\n",
       "    }\n",
       "\n",
       "    .dataframe thead th {\n",
       "        text-align: left;\n",
       "    }\n",
       "\n",
       "    .dataframe tbody tr th {\n",
       "        vertical-align: top;\n",
       "    }\n",
       "</style>\n",
       "<table border=\"1\" class=\"dataframe\">\n",
       "  <thead>\n",
       "    <tr style=\"text-align: right;\">\n",
       "      <th></th>\n",
       "      <th>CTRY_CODE</th>\n",
       "      <th>AMT_ISSUED</th>\n",
       "      <th>AMT_OUTSTANDING</th>\n",
       "      <th>AMT_COMPLETED</th>\n",
       "    </tr>\n",
       "  </thead>\n",
       "  <tbody>\n",
       "    <tr>\n",
       "      <th>0</th>\n",
       "      <td>UA</td>\n",
       "      <td>1500000000</td>\n",
       "      <td>1500000000</td>\n",
       "      <td>0</td>\n",
       "    </tr>\n",
       "    <tr>\n",
       "      <th>1</th>\n",
       "      <td>FR</td>\n",
       "      <td>10160000000</td>\n",
       "      <td>10160000000</td>\n",
       "      <td>0</td>\n",
       "    </tr>\n",
       "    <tr>\n",
       "      <th>2</th>\n",
       "      <td>DE</td>\n",
       "      <td>17040000000</td>\n",
       "      <td>16040000000</td>\n",
       "      <td>1000000000</td>\n",
       "    </tr>\n",
       "    <tr>\n",
       "      <th>3</th>\n",
       "      <td>FR</td>\n",
       "      <td>20195000000</td>\n",
       "      <td>19095000000</td>\n",
       "      <td>1100000000</td>\n",
       "    </tr>\n",
       "    <tr>\n",
       "      <th>4</th>\n",
       "      <td>GO</td>\n",
       "      <td>7000000</td>\n",
       "      <td>7000000</td>\n",
       "      <td>0</td>\n",
       "    </tr>\n",
       "  </tbody>\n",
       "</table>\n",
       "</div>"
      ],
      "text/plain": [
       "  CTRY_CODE   AMT_ISSUED  AMT_OUTSTANDING  AMT_COMPLETED\n",
       "0        UA   1500000000       1500000000              0\n",
       "1        FR  10160000000      10160000000              0\n",
       "2        DE  17040000000      16040000000     1000000000\n",
       "3        FR  20195000000      19095000000     1100000000\n",
       "4        GO      7000000          7000000              0"
      ]
     },
     "execution_count": 190,
     "metadata": {},
     "output_type": "execute_result"
    }
   ],
   "source": [
    "# 8.5:  for the next questions, please use dataframe df2\n",
    "#       create a new column AMT_COMPLETED that subtracts AMT_OUTSTANDING from AMT_ISSUED across all columns\n",
    "df2['AMT_COMPLETED'] = df2['AMT_ISSUED']- df2['AMT_OUTSTANDING']\n",
    "df2"
   ]
  },
  {
   "cell_type": "markdown",
   "metadata": {},
   "source": [
    "<U>expected output</U>:\n",
    "<PRE>  CTRY_CODE   AMT_ISSUED  AMT_OUTSTANDING  AMT_COMPLETED\n",
    "0        UA   1500000000       1500000000              0\n",
    "1        FR  10160000000      10160000000              0\n",
    "2        DE  17040000000      16040000000     1000000000\n",
    "3        FR  20195000000      19095000000     1100000000\n",
    "4        GO      7000000          7000000              0</PRE>"
   ]
  },
  {
   "cell_type": "code",
   "execution_count": 191,
   "metadata": {},
   "outputs": [
    {
     "data": {
      "text/plain": [
       "CTRY_CODE           UAFRDEFRGO\n",
       "AMT_ISSUED         48902000000\n",
       "AMT_OUTSTANDING    46802000000\n",
       "AMT_COMPLETED       2100000000\n",
       "dtype: object"
      ]
     },
     "execution_count": 191,
     "metadata": {},
     "output_type": "execute_result"
    }
   ],
   "source": [
    "# 8.6:  sum up each of AMT_ISSUED, AMT_OUTSTANDING and AMT_COMPLETED\n",
    "df2.sum()\n"
   ]
  },
  {
   "cell_type": "markdown",
   "metadata": {},
   "source": [
    "<U>expected output</U>:\n",
    "<PRE>CTRY_CODE           UAFRDEFRGO\n",
    "AMT_ISSUED         48902000000\n",
    "AMT_OUTSTANDING    46802000000\n",
    "AMT_COMPLETED       2100000000\n",
    "dtype: object</PRE>"
   ]
  },
  {
   "cell_type": "code",
   "execution_count": 192,
   "metadata": {},
   "outputs": [
    {
     "data": {
      "text/plain": [
       "9780400000.0"
      ]
     },
     "execution_count": 192,
     "metadata": {},
     "output_type": "execute_result"
    }
   ],
   "source": [
    "# 8.7:  show average AMT_ISSUED\n",
    "amt_issued_sum = df2['AMT_ISSUED'].sum()\n",
    "amt_issued_count = df2['AMT_ISSUED'].count()\n",
    "\n",
    "amt_issued_avg = amt_issued_sum / amt_issued_count\n",
    "amt_issued_avg"
   ]
  },
  {
   "cell_type": "markdown",
   "metadata": {},
   "source": [
    "<U>expected output</U>:\n",
    "<PRE>average amount issued:  9780400000.0</PRE>"
   ]
  },
  {
   "cell_type": "code",
   "execution_count": 193,
   "metadata": {},
   "outputs": [
    {
     "data": {
      "text/html": [
       "<div>\n",
       "<style>\n",
       "    .dataframe thead tr:only-child th {\n",
       "        text-align: right;\n",
       "    }\n",
       "\n",
       "    .dataframe thead th {\n",
       "        text-align: left;\n",
       "    }\n",
       "\n",
       "    .dataframe tbody tr th {\n",
       "        vertical-align: top;\n",
       "    }\n",
       "</style>\n",
       "<table border=\"1\" class=\"dataframe\">\n",
       "  <thead>\n",
       "    <tr style=\"text-align: right;\">\n",
       "      <th></th>\n",
       "      <th>CRNCY</th>\n",
       "      <th>CTRY_CODE</th>\n",
       "      <th>EUROZONE</th>\n",
       "      <th>AMT_ISSUED</th>\n",
       "      <th>AMT_OUTSTANDING</th>\n",
       "    </tr>\n",
       "  </thead>\n",
       "  <tbody>\n",
       "    <tr>\n",
       "      <th>1</th>\n",
       "      <td>EUR</td>\n",
       "      <td>FR</td>\n",
       "      <td>Eurozone</td>\n",
       "      <td>10160000000</td>\n",
       "      <td>10160000000</td>\n",
       "    </tr>\n",
       "    <tr>\n",
       "      <th>3</th>\n",
       "      <td>EUR</td>\n",
       "      <td>FR</td>\n",
       "      <td>Eurozone</td>\n",
       "      <td>20195000000</td>\n",
       "      <td>19095000000</td>\n",
       "    </tr>\n",
       "    <tr>\n",
       "      <th>4</th>\n",
       "      <td>EUR</td>\n",
       "      <td>GO</td>\n",
       "      <td>Non</td>\n",
       "      <td>7000000</td>\n",
       "      <td>7000000</td>\n",
       "    </tr>\n",
       "  </tbody>\n",
       "</table>\n",
       "</div>"
      ],
      "text/plain": [
       "  CRNCY CTRY_CODE  EUROZONE   AMT_ISSUED  AMT_OUTSTANDING\n",
       "1   EUR        FR  Eurozone  10160000000      10160000000\n",
       "3   EUR        FR  Eurozone  20195000000      19095000000\n",
       "4   EUR        GO       Non      7000000          7000000"
      ]
     },
     "execution_count": 193,
     "metadata": {},
     "output_type": "execute_result"
    }
   ],
   "source": [
    "# 8.8:  going back to original df1 (all 5 columns), slice rows for EUR issues only\n",
    "#       note:  please show the results, but don't assign back to df1\n",
    "df1.loc[df1['CRNCY'] == 'EUR']\n"
   ]
  },
  {
   "cell_type": "markdown",
   "metadata": {},
   "source": [
    "<U>expected output</U>:\n",
    "<PRE>  CRNCY CTRY_CODE  EUROZONE   AMT_ISSUED  AMT_OUTSTANDING\n",
    "1   EUR        FR  Eurozone  10160000000      10160000000\n",
    "3   EUR        FR  Eurozone  20195000000      19095000000\n",
    "4   EUR        GO       Non      7000000          7000000</PRE>"
   ]
  },
  {
   "cell_type": "code",
   "execution_count": 194,
   "metadata": {},
   "outputs": [
    {
     "data": {
      "text/html": [
       "<div>\n",
       "<style>\n",
       "    .dataframe thead tr:only-child th {\n",
       "        text-align: right;\n",
       "    }\n",
       "\n",
       "    .dataframe thead th {\n",
       "        text-align: left;\n",
       "    }\n",
       "\n",
       "    .dataframe tbody tr th {\n",
       "        vertical-align: top;\n",
       "    }\n",
       "</style>\n",
       "<table border=\"1\" class=\"dataframe\">\n",
       "  <thead>\n",
       "    <tr style=\"text-align: right;\">\n",
       "      <th></th>\n",
       "      <th>CRNCY</th>\n",
       "      <th>CTRY_CODE</th>\n",
       "      <th>EUROZONE</th>\n",
       "      <th>AMT_ISSUED</th>\n",
       "      <th>AMT_OUTSTANDING</th>\n",
       "    </tr>\n",
       "  </thead>\n",
       "  <tbody>\n",
       "    <tr>\n",
       "      <th>1</th>\n",
       "      <td>EUR</td>\n",
       "      <td>FR</td>\n",
       "      <td>Eurozone</td>\n",
       "      <td>10160000000</td>\n",
       "      <td>10160000000</td>\n",
       "    </tr>\n",
       "    <tr>\n",
       "      <th>3</th>\n",
       "      <td>EUR</td>\n",
       "      <td>FR</td>\n",
       "      <td>Eurozone</td>\n",
       "      <td>20195000000</td>\n",
       "      <td>19095000000</td>\n",
       "    </tr>\n",
       "  </tbody>\n",
       "</table>\n",
       "</div>"
      ],
      "text/plain": [
       "  CRNCY CTRY_CODE  EUROZONE   AMT_ISSUED  AMT_OUTSTANDING\n",
       "1   EUR        FR  Eurozone  10160000000      10160000000\n",
       "3   EUR        FR  Eurozone  20195000000      19095000000"
      ]
     },
     "execution_count": 194,
     "metadata": {},
     "output_type": "execute_result"
    }
   ],
   "source": [
    "# 8.9:  again using the original df1, slice rows for EUR issues that are also EUROZONE\n",
    "#       note:  please show the results, but don't assign back to df1\n",
    "df1.loc[(df1['CRNCY'] == 'EUR') & (df1['EUROZONE'] == 'Eurozone')]"
   ]
  },
  {
   "cell_type": "markdown",
   "metadata": {},
   "source": [
    "<U>expected output</U>:\n",
    "<PRE>  CRNCY CTRY_CODE  EUROZONE   AMT_ISSUED  AMT_OUTSTANDING\n",
    "1   EUR        FR  Eurozone  10160000000      10160000000\n",
    "3   EUR        FR  Eurozone  20195000000      19095000000</PRE>"
   ]
  },
  {
   "cell_type": "code",
   "execution_count": 195,
   "metadata": {},
   "outputs": [
    {
     "data": {
      "text/plain": [
       "6182333333.333333"
      ]
     },
     "execution_count": 195,
     "metadata": {},
     "output_type": "execute_result"
    }
   ],
   "source": [
    "# 8.10: in one statement, show average/mean of AMT_ISSUED for all non-EUR countries\n",
    "df1.loc[(df1['EUROZONE'] == 'Non')]['AMT_ISSUED'].mean()"
   ]
  },
  {
   "cell_type": "markdown",
   "metadata": {},
   "source": [
    "<U>expected output</U>:\n",
    "<PRE>AMT_ISSUED         9.270000e+09\n",
    "AMT_OUTSTANDING    8.770000e+09\n",
    "dtype: float64</PRE>"
   ]
  },
  {
   "cell_type": "code",
   "execution_count": 196,
   "metadata": {},
   "outputs": [
    {
     "data": {
      "text/html": [
       "<div>\n",
       "<style>\n",
       "    .dataframe thead tr:only-child th {\n",
       "        text-align: right;\n",
       "    }\n",
       "\n",
       "    .dataframe thead th {\n",
       "        text-align: left;\n",
       "    }\n",
       "\n",
       "    .dataframe tbody tr th {\n",
       "        vertical-align: top;\n",
       "    }\n",
       "</style>\n",
       "<table border=\"1\" class=\"dataframe\">\n",
       "  <thead>\n",
       "    <tr style=\"text-align: right;\">\n",
       "      <th></th>\n",
       "      <th>CRNCY</th>\n",
       "      <th>CTRY_CODE</th>\n",
       "      <th>EUROZONE</th>\n",
       "      <th>AMT_ISSUED</th>\n",
       "      <th>AMT_OUTSTANDING</th>\n",
       "    </tr>\n",
       "  </thead>\n",
       "  <tbody>\n",
       "    <tr>\n",
       "      <th>0</th>\n",
       "      <td>USD</td>\n",
       "      <td>UA</td>\n",
       "      <td>N</td>\n",
       "      <td>1500000000</td>\n",
       "      <td>1500000000</td>\n",
       "    </tr>\n",
       "    <tr>\n",
       "      <th>1</th>\n",
       "      <td>EUR</td>\n",
       "      <td>FR</td>\n",
       "      <td>Y</td>\n",
       "      <td>10160000000</td>\n",
       "      <td>10160000000</td>\n",
       "    </tr>\n",
       "    <tr>\n",
       "      <th>2</th>\n",
       "      <td>DKK</td>\n",
       "      <td>DE</td>\n",
       "      <td>N</td>\n",
       "      <td>17040000000</td>\n",
       "      <td>16040000000</td>\n",
       "    </tr>\n",
       "    <tr>\n",
       "      <th>3</th>\n",
       "      <td>EUR</td>\n",
       "      <td>FR</td>\n",
       "      <td>Y</td>\n",
       "      <td>20195000000</td>\n",
       "      <td>19095000000</td>\n",
       "    </tr>\n",
       "    <tr>\n",
       "      <th>4</th>\n",
       "      <td>EUR</td>\n",
       "      <td>GO</td>\n",
       "      <td>N</td>\n",
       "      <td>7000000</td>\n",
       "      <td>7000000</td>\n",
       "    </tr>\n",
       "  </tbody>\n",
       "</table>\n",
       "</div>"
      ],
      "text/plain": [
       "  CRNCY CTRY_CODE EUROZONE   AMT_ISSUED  AMT_OUTSTANDING\n",
       "0   USD        UA        N   1500000000       1500000000\n",
       "1   EUR        FR        Y  10160000000      10160000000\n",
       "2   DKK        DE        N  17040000000      16040000000\n",
       "3   EUR        FR        Y  20195000000      19095000000\n",
       "4   EUR        GO        N      7000000          7000000"
      ]
     },
     "execution_count": 196,
     "metadata": {},
     "output_type": "execute_result"
    }
   ],
   "source": [
    "# 8.11: in the EUROZONE column, replace 'Eurozone' with 'Y' and 'Non' with 'N'\n",
    "#       attempt to accomplish this with .loc referencing\n",
    "df1.loc[df1['EUROZONE'] == 'Eurozone', ['EUROZONE']] = 'Y'\n",
    "df1.loc[df1['EUROZONE'] == 'Non', ['EUROZONE']] = 'N'\n",
    "\n",
    "df1"
   ]
  },
  {
   "cell_type": "markdown",
   "metadata": {},
   "source": [
    "<U>expected output</U>:\n",
    "<PRE>  CRNCY CTRY_CODE EUROZONE   AMT_ISSUED  AMT_OUTSTANDING\n",
    "0   USD        UA        N   1500000000       1500000000\n",
    "1   EUR        FR        Y  10160000000      10160000000\n",
    "2   DKK        DE        N  17040000000      16040000000\n",
    "3   EUR        FR        Y  20195000000      19095000000\n",
    "4   EUR        GO        N      7000000          7000000</PRE>"
   ]
  },
  {
   "cell_type": "code",
   "execution_count": 197,
   "metadata": {},
   "outputs": [
    {
     "name": "stdout",
     "output_type": "stream",
     "text": [
      "        AMT_ISSUED  AMT_OUTSTANDING\n",
      "CRNCY                              \n",
      "DKK    17040000000      16040000000\n",
      "EUR    30362000000      29262000000\n",
      "USD     1500000000       1500000000\n"
     ]
    }
   ],
   "source": [
    "# 8.12: create a groupby() aggregation that sums AMT_ISSUED and AMT_OUTSTANDING by currency\n",
    "# revenue sum by region\n",
    "\n",
    "\n",
    "grouped = df1.groupby('CRNCY').sum()\n",
    "print(grouped)"
   ]
  },
  {
   "cell_type": "markdown",
   "metadata": {},
   "source": [
    "<U>expected output</U>:\n",
    "<PRE>        AMT_ISSUED  AMT_OUTSTANDING\n",
    "CRNCY                              \n",
    "DKK    17040000000      16040000000\n",
    "EUR    30362000000      29262000000\n",
    "USD     1500000000       1500000000</PRE>"
   ]
  },
  {
   "cell_type": "code",
   "execution_count": 198,
   "metadata": {},
   "outputs": [
    {
     "ename": "ValueError",
     "evalue": "Length of values does not match length of index",
     "output_type": "error",
     "traceback": [
      "\u001b[0;31m---------------------------------------------------------------------------\u001b[0m",
      "\u001b[0;31mValueError\u001b[0m                                Traceback (most recent call last)",
      "\u001b[0;32m<ipython-input-198-7944873a03f0>\u001b[0m in \u001b[0;36m<module>\u001b[0;34m()\u001b[0m\n\u001b[1;32m      6\u001b[0m \u001b[0;31m# I don't didn't understand what to do here or with the dictionary, so I just assigned it\u001b[0m\u001b[0;34m\u001b[0m\u001b[0;34m\u001b[0m\u001b[0m\n\u001b[1;32m      7\u001b[0m \u001b[0;31m# to 'country_lookup' like the question asks, but it errors. I got the Extra Credit, though.\u001b[0m\u001b[0;34m\u001b[0m\u001b[0;34m\u001b[0m\u001b[0m\n\u001b[0;32m----> 8\u001b[0;31m \u001b[0mdf1\u001b[0m\u001b[0;34m[\u001b[0m\u001b[0;34m'country_lookup'\u001b[0m\u001b[0;34m]\u001b[0m \u001b[0;34m=\u001b[0m \u001b[0mzipped_dict\u001b[0m\u001b[0;34m\u001b[0m\u001b[0m\n\u001b[0m\u001b[1;32m      9\u001b[0m \u001b[0;34m\u001b[0m\u001b[0m\n\u001b[1;32m     10\u001b[0m \u001b[0;34m\u001b[0m\u001b[0m\n",
      "\u001b[0;32m/home/dacks/anaconda3/lib/python3.6/site-packages/pandas/core/frame.py\u001b[0m in \u001b[0;36m__setitem__\u001b[0;34m(self, key, value)\u001b[0m\n\u001b[1;32m   2427\u001b[0m         \u001b[0;32melse\u001b[0m\u001b[0;34m:\u001b[0m\u001b[0;34m\u001b[0m\u001b[0m\n\u001b[1;32m   2428\u001b[0m             \u001b[0;31m# set column\u001b[0m\u001b[0;34m\u001b[0m\u001b[0;34m\u001b[0m\u001b[0m\n\u001b[0;32m-> 2429\u001b[0;31m             \u001b[0mself\u001b[0m\u001b[0;34m.\u001b[0m\u001b[0m_set_item\u001b[0m\u001b[0;34m(\u001b[0m\u001b[0mkey\u001b[0m\u001b[0;34m,\u001b[0m \u001b[0mvalue\u001b[0m\u001b[0;34m)\u001b[0m\u001b[0;34m\u001b[0m\u001b[0m\n\u001b[0m\u001b[1;32m   2430\u001b[0m \u001b[0;34m\u001b[0m\u001b[0m\n\u001b[1;32m   2431\u001b[0m     \u001b[0;32mdef\u001b[0m \u001b[0m_setitem_slice\u001b[0m\u001b[0;34m(\u001b[0m\u001b[0mself\u001b[0m\u001b[0;34m,\u001b[0m \u001b[0mkey\u001b[0m\u001b[0;34m,\u001b[0m \u001b[0mvalue\u001b[0m\u001b[0;34m)\u001b[0m\u001b[0;34m:\u001b[0m\u001b[0;34m\u001b[0m\u001b[0m\n",
      "\u001b[0;32m/home/dacks/anaconda3/lib/python3.6/site-packages/pandas/core/frame.py\u001b[0m in \u001b[0;36m_set_item\u001b[0;34m(self, key, value)\u001b[0m\n\u001b[1;32m   2493\u001b[0m \u001b[0;34m\u001b[0m\u001b[0m\n\u001b[1;32m   2494\u001b[0m         \u001b[0mself\u001b[0m\u001b[0;34m.\u001b[0m\u001b[0m_ensure_valid_index\u001b[0m\u001b[0;34m(\u001b[0m\u001b[0mvalue\u001b[0m\u001b[0;34m)\u001b[0m\u001b[0;34m\u001b[0m\u001b[0m\n\u001b[0;32m-> 2495\u001b[0;31m         \u001b[0mvalue\u001b[0m \u001b[0;34m=\u001b[0m \u001b[0mself\u001b[0m\u001b[0;34m.\u001b[0m\u001b[0m_sanitize_column\u001b[0m\u001b[0;34m(\u001b[0m\u001b[0mkey\u001b[0m\u001b[0;34m,\u001b[0m \u001b[0mvalue\u001b[0m\u001b[0;34m)\u001b[0m\u001b[0;34m\u001b[0m\u001b[0m\n\u001b[0m\u001b[1;32m   2496\u001b[0m         \u001b[0mNDFrame\u001b[0m\u001b[0;34m.\u001b[0m\u001b[0m_set_item\u001b[0m\u001b[0;34m(\u001b[0m\u001b[0mself\u001b[0m\u001b[0;34m,\u001b[0m \u001b[0mkey\u001b[0m\u001b[0;34m,\u001b[0m \u001b[0mvalue\u001b[0m\u001b[0;34m)\u001b[0m\u001b[0;34m\u001b[0m\u001b[0m\n\u001b[1;32m   2497\u001b[0m \u001b[0;34m\u001b[0m\u001b[0m\n",
      "\u001b[0;32m/home/dacks/anaconda3/lib/python3.6/site-packages/pandas/core/frame.py\u001b[0m in \u001b[0;36m_sanitize_column\u001b[0;34m(self, key, value, broadcast)\u001b[0m\n\u001b[1;32m   2664\u001b[0m \u001b[0;34m\u001b[0m\u001b[0m\n\u001b[1;32m   2665\u001b[0m             \u001b[0;31m# turn me into an ndarray\u001b[0m\u001b[0;34m\u001b[0m\u001b[0;34m\u001b[0m\u001b[0m\n\u001b[0;32m-> 2666\u001b[0;31m             \u001b[0mvalue\u001b[0m \u001b[0;34m=\u001b[0m \u001b[0m_sanitize_index\u001b[0m\u001b[0;34m(\u001b[0m\u001b[0mvalue\u001b[0m\u001b[0;34m,\u001b[0m \u001b[0mself\u001b[0m\u001b[0;34m.\u001b[0m\u001b[0mindex\u001b[0m\u001b[0;34m,\u001b[0m \u001b[0mcopy\u001b[0m\u001b[0;34m=\u001b[0m\u001b[0;32mFalse\u001b[0m\u001b[0;34m)\u001b[0m\u001b[0;34m\u001b[0m\u001b[0m\n\u001b[0m\u001b[1;32m   2667\u001b[0m             \u001b[0;32mif\u001b[0m \u001b[0;32mnot\u001b[0m \u001b[0misinstance\u001b[0m\u001b[0;34m(\u001b[0m\u001b[0mvalue\u001b[0m\u001b[0;34m,\u001b[0m \u001b[0;34m(\u001b[0m\u001b[0mnp\u001b[0m\u001b[0;34m.\u001b[0m\u001b[0mndarray\u001b[0m\u001b[0;34m,\u001b[0m \u001b[0mIndex\u001b[0m\u001b[0;34m)\u001b[0m\u001b[0;34m)\u001b[0m\u001b[0;34m:\u001b[0m\u001b[0;34m\u001b[0m\u001b[0m\n\u001b[1;32m   2668\u001b[0m                 \u001b[0;32mif\u001b[0m \u001b[0misinstance\u001b[0m\u001b[0;34m(\u001b[0m\u001b[0mvalue\u001b[0m\u001b[0;34m,\u001b[0m \u001b[0mlist\u001b[0m\u001b[0;34m)\u001b[0m \u001b[0;32mand\u001b[0m \u001b[0mlen\u001b[0m\u001b[0;34m(\u001b[0m\u001b[0mvalue\u001b[0m\u001b[0;34m)\u001b[0m \u001b[0;34m>\u001b[0m \u001b[0;36m0\u001b[0m\u001b[0;34m:\u001b[0m\u001b[0;34m\u001b[0m\u001b[0m\n",
      "\u001b[0;32m/home/dacks/anaconda3/lib/python3.6/site-packages/pandas/core/series.py\u001b[0m in \u001b[0;36m_sanitize_index\u001b[0;34m(data, index, copy)\u001b[0m\n\u001b[1;32m   2877\u001b[0m \u001b[0;34m\u001b[0m\u001b[0m\n\u001b[1;32m   2878\u001b[0m     \u001b[0;32mif\u001b[0m \u001b[0mlen\u001b[0m\u001b[0;34m(\u001b[0m\u001b[0mdata\u001b[0m\u001b[0;34m)\u001b[0m \u001b[0;34m!=\u001b[0m \u001b[0mlen\u001b[0m\u001b[0;34m(\u001b[0m\u001b[0mindex\u001b[0m\u001b[0;34m)\u001b[0m\u001b[0;34m:\u001b[0m\u001b[0;34m\u001b[0m\u001b[0m\n\u001b[0;32m-> 2879\u001b[0;31m         \u001b[0;32mraise\u001b[0m \u001b[0mValueError\u001b[0m\u001b[0;34m(\u001b[0m\u001b[0;34m'Length of values does not match length of '\u001b[0m \u001b[0;34m'index'\u001b[0m\u001b[0;34m)\u001b[0m\u001b[0;34m\u001b[0m\u001b[0m\n\u001b[0m\u001b[1;32m   2880\u001b[0m \u001b[0;34m\u001b[0m\u001b[0m\n\u001b[1;32m   2881\u001b[0m     \u001b[0;32mif\u001b[0m \u001b[0misinstance\u001b[0m\u001b[0;34m(\u001b[0m\u001b[0mdata\u001b[0m\u001b[0;34m,\u001b[0m \u001b[0mPeriodIndex\u001b[0m\u001b[0;34m)\u001b[0m\u001b[0;34m:\u001b[0m\u001b[0;34m\u001b[0m\u001b[0m\n",
      "\u001b[0;31mValueError\u001b[0m: Length of values does not match length of index"
     ]
    }
   ],
   "source": [
    "# 8.13: in the 'country_lookup' tab, create a dictionary of CTRY_CODE as key and FULL_NAME as value.\n",
    "\n",
    "country_code = list(df1['CTRY_CODE'])\n",
    "full_name = ['United Arab Emirates', 'France', 'Denmark', 'France', 'Gabon']\n",
    "zipped_dict = dict(zip(country_code, full_name))\n",
    "# I don't didn't understand what to do here or with the dictionary, so I just assigned it\n",
    "# to 'country_lookup' like the question asks, but it errors. I got the Extra Credit, though.\n",
    "df1['country_lookup'] = zipped_dict\n",
    "\n",
    "\n"
   ]
  },
  {
   "cell_type": "markdown",
   "metadata": {},
   "source": [
    "<U>expected output</U>:\n",
    "<PRE>{'UA': 'United Arab Emirates', 'FR': 'France', 'DE': 'Denmark', 'GO': 'Gabon'}</PRE>"
   ]
  },
  {
   "cell_type": "code",
   "execution_count": null,
   "metadata": {},
   "outputs": [],
   "source": [
    "# 8.14: extra credit:  looping through ctryname_dict, \n",
    "#       set a value in new column df['FULL_NAME'] that is the full name of the country\n",
    "\n",
    "country_code = list(df1['CTRY_CODE'])\n",
    "full_name = ['United Arab Emirates', 'France', 'Denmark', 'France', 'Gabon']\n",
    "zipped_dict = dict(zip(country_code, full_name))\n",
    "df1['country_lookup'] = df1['CTRY_CODE'].apply(lambda code: zipped_dict[code])\n",
    "df1"
   ]
  },
  {
   "cell_type": "markdown",
   "metadata": {
    "collapsed": true
   },
   "source": [
    "<U>expected output</U>:\n",
    "<PRE>  CRNCY CTRY_CODE EUROZONE   AMT_ISSUED  AMT_OUTSTANDING             FULL_NAME\n",
    "0   USD        UA        N   1500000000       1500000000  United Arab Emirates\n",
    "1   EUR        FR        Y  10160000000      10160000000                France\n",
    "2   DKK        DE        N  17040000000      16040000000               Denmark\n",
    "3   EUR        FR        Y  20195000000      19095000000                France\n",
    "4   EUR        GO        N      7000000          7000000                 Gabon</PRE>"
   ]
  }
 ],
 "metadata": {
  "kernelspec": {
   "display_name": "Python 3",
   "language": "python",
   "name": "python3"
  },
  "language_info": {
   "codemirror_mode": {
    "name": "ipython",
    "version": 3
   },
   "file_extension": ".py",
   "mimetype": "text/x-python",
   "name": "python",
   "nbconvert_exporter": "python",
   "pygments_lexer": "ipython3",
   "version": "3.6.1"
  }
 },
 "nbformat": 4,
 "nbformat_minor": 2
}
